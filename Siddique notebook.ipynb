{
 "cells": [
  {
   "cell_type": "markdown",
   "metadata": {},
   "source": [
    "# Primitive Type"
   ]
  },
  {
   "cell_type": "markdown",
   "metadata": {},
   "source": [
    "## Integer"
   ]
  },
  {
   "cell_type": "code",
   "execution_count": 2,
   "metadata": {},
   "outputs": [
    {
     "name": "stdout",
     "output_type": "stream",
     "text": [
      "Sum: 15\n",
      "Difference: 5\n",
      "Product: 50\n",
      "Quotient: 2\n",
      "Remainder: 0\n"
     ]
    }
   ],
   "source": [
    "a = 5\n",
    "b = 10\n",
    "\n",
    "\n",
    "sum_result = a + b\n",
    "difference = b - a\n",
    "product = a * b\n",
    "quotient = b // a \n",
    "remainder = b % a\n",
    "\n",
    "\n",
    "print(\"Sum:\", sum_result)\n",
    "print(\"Difference:\", difference)\n",
    "print(\"Product:\", product)\n",
    "print(\"Quotient:\", quotient)\n",
    "print(\"Remainder:\", remainder)"
   ]
  },
  {
   "cell_type": "markdown",
   "metadata": {},
   "source": [
    "## Float"
   ]
  },
  {
   "cell_type": "code",
   "execution_count": 3,
   "metadata": {},
   "outputs": [
    {
     "name": "stdout",
     "output_type": "stream",
     "text": [
      "Sum: 5.5\n",
      "Difference: 1.5\n",
      "Product: 7.0\n",
      "Quotient: 1.75\n"
     ]
    }
   ],
   "source": [
    "x = 3.5\n",
    "y = 2.0\n",
    "\n",
    "\n",
    "sum_result = x + y\n",
    "difference = x - y\n",
    "product = x * y\n",
    "quotient = x / y\n",
    "\n",
    "\n",
    "print(\"Sum:\", sum_result)\n",
    "print(\"Difference:\", difference)\n",
    "print(\"Product:\", product)\n",
    "print(\"Quotient:\", quotient)"
   ]
  },
  {
   "cell_type": "markdown",
   "metadata": {},
   "source": [
    "## Boolean"
   ]
  },
  {
   "cell_type": "code",
   "execution_count": 13,
   "metadata": {},
   "outputs": [
    {
     "name": "stdout",
     "output_type": "stream",
     "text": [
      "Am I a student? True\n",
      "Am I a teacher? False\n",
      "Am I active? True\n",
      "Am I inactive? False\n",
      "Am I an adult? True\n",
      "Am I a senior citizen? False\n"
     ]
    }
   ],
   "source": [
    "is_student = True\n",
    "is_teacher = False\n",
    "\n",
    "is_active = True\n",
    "is_inactive = False\n",
    "\n",
    "\n",
    "age = 25\n",
    "is_adult = age >= 18\n",
    "is_senior = age >= 60\n",
    "\n",
    "print(\"Am I a student?\", is_student)\n",
    "print(\"Am I a teacher?\", is_teacher)\n",
    "print(\"Am I active?\", is_active)\n",
    "print(\"Am I inactive?\", is_inactive)\n",
    "print(\"Am I an adult?\", is_adult)\n",
    "print(\"Am I a senior citizen?\", is_senior)"
   ]
  },
  {
   "cell_type": "markdown",
   "metadata": {},
   "source": [
    "# Strings"
   ]
  },
  {
   "cell_type": "markdown",
   "metadata": {},
   "source": [
    "## String Indexing"
   ]
  },
  {
   "cell_type": "code",
   "execution_count": 9,
   "metadata": {},
   "outputs": [
    {
     "name": "stdout",
     "output_type": "stream",
     "text": [
      "First character: H\n",
      "Second character: e\n",
      "Space character:  \n",
      "Comma character: ,\n",
      "Last character: !\n",
      "Second last character: d\n"
     ]
    }
   ],
   "source": [
    "my_string = \"Hello, World!\"\n",
    "\n",
    "\n",
    "first_char = my_string[0]     \n",
    "second_char = my_string[1]     \n",
    "space_char = my_string[5]      \n",
    "comma_char = my_string[6]      \n",
    "last_char = my_string[-1]      \n",
    "second_last_char = my_string[-2]  \n",
    "\n",
    "# Displaying the results\n",
    "print(\"First character:\", first_char)\n",
    "print(\"Second character:\", second_char)\n",
    "print(\"Space character:\", space_char)\n",
    "print(\"Comma character:\", comma_char)\n",
    "print(\"Last character:\", last_char)\n",
    "print(\"Second last character:\", second_last_char)"
   ]
  },
  {
   "cell_type": "markdown",
   "metadata": {},
   "source": [
    "## Slicing"
   ]
  },
  {
   "cell_type": "code",
   "execution_count": 18,
   "metadata": {},
   "outputs": [
    {
     "name": "stdout",
     "output_type": "stream",
     "text": [
      "Substring 1: Hello\n",
      "Substring 2: World\n",
      "Substring 3: Hello\n",
      "Substring 4: World!\n"
     ]
    }
   ],
   "source": [
    "my_string = \"Hello, World!\"\n",
    "\n",
    "\n",
    "substring1 = my_string[0:5]   \n",
    "substring2 = my_string[7:12]  \n",
    "substring3 = my_string[:5]    \n",
    "substring4 = my_string[7:]     \n",
    "\n",
    "\n",
    "print(\"Substring 1:\", substring1)\n",
    "print(\"Substring 2:\", substring2)\n",
    "print(\"Substring 3:\", substring3)\n",
    "print(\"Substring 4:\", substring4)"
   ]
  },
  {
   "cell_type": "markdown",
   "metadata": {},
   "source": [
    "## Methods"
   ]
  },
  {
   "cell_type": "code",
   "execution_count": 23,
   "metadata": {},
   "outputs": [
    {
     "name": "stdout",
     "output_type": "stream",
     "text": [
      "Number of occurrences of 'Python': 2\n",
      "Index of 'programming': 21\n",
      "Is the string in lowercase? False\n",
      "Modified string with 'Python' replaced by 'Java': Java is a powerful programming language. Java is easy to learn.\n"
     ]
    }
   ],
   "source": [
    "text = \"Python is a powerful programming language. Python is easy to learn.\"\n",
    "\n",
    "\n",
    "count_python = text.count(\"Python\")\n",
    "\n",
    "\n",
    "index_programming = text.find(\"programming\")\n",
    "\n",
    "\n",
    "is_lower_case = text.islower()\n",
    "\n",
    "\n",
    "text_modified = text.replace(\"Python\", \"Java\")\n",
    "\n",
    "\n",
    "print(\"Number of occurrences of 'Python':\", count_python)\n",
    "print(\"Index of 'programming':\", index_programming)\n",
    "print(\"Is the string in lowercase?\", is_lower_case)\n",
    "print(\"Modified string with 'Python' replaced by 'Java':\", text_modified)"
   ]
  }
 ],
 "metadata": {
  "kernelspec": {
   "display_name": "Python 3",
   "language": "python",
   "name": "python3"
  },
  "language_info": {
   "codemirror_mode": {
    "name": "ipython",
    "version": 3
   },
   "file_extension": ".py",
   "mimetype": "text/x-python",
   "name": "python",
   "nbconvert_exporter": "python",
   "pygments_lexer": "ipython3",
   "version": "3.6.5"
  }
 },
 "nbformat": 4,
 "nbformat_minor": 2
}
